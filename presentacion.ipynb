{
 "cells": [
  {
   "cell_type": "markdown",
   "id": "ce6e51db",
   "metadata": {
    "slideshow": {
     "slide_type": "slide"
    }
   },
   "source": [
    "# Diseño de Pipelines de datos con GCP DataFlow\n",
    "\n",
    "### José Luis Chiquete.\n",
    "### 2022.\n",
    "\n",
    "\n",
    "#### https://github.com/josechval/dataflow-datadays"
   ]
  },
  {
   "cell_type": "markdown",
   "id": "cb26408f",
   "metadata": {
    "slideshow": {
     "slide_type": "slide"
    }
   },
   "source": [
    "## *CGP Dataflow*.\n",
    "\n",
    "Es un servicio creado para ejecutar *pipelines* de datos implementados en *Apache Beam*.\n",
    "\n",
    "* Totalmente autogestionado.\n",
    "* Integrado a los demás servicios de *GCP*.\n",
    "* Cuenta con un tablero de control y monitoreo.\n",
    "* Se ejecuta desde el *Google Cloud Shell*.\n",
    "* Cuenta con *Notebooks* de *JupyterLab*."
   ]
  },
  {
   "cell_type": "markdown",
   "id": "70099e4f",
   "metadata": {
    "slideshow": {
     "slide_type": "slide"
    }
   },
   "source": [
    "## *Apache Beam*.\n",
    "\n",
    "Es una herramienta que permite ejecutar procesos por lotes (*batch*) o por flujos (*streams*) de datos.\n",
    "\n",
    "https://beam.apache.org/"
   ]
  },
  {
   "cell_type": "markdown",
   "id": "51c40980",
   "metadata": {
    "slideshow": {
     "slide_type": "subslide"
    }
   },
   "source": [
    "### *Apache Beam* es portable y ejecutable en diversas plataformas (*runners*).\n",
    "\n",
    "* [*Apache Spark*](https://spark.apache.org/).\n",
    "* [*Apache Flink*](https://flink.apache.org/).\n",
    "* [*Apache Samza*](https://samza.apache.org/).\n",
    "* [*Apache Nemo*](https://nemo.apache.org/).\n",
    "* [*Hazelcat Jet*](https://jet-start.sh/).\n",
    "* [*AWS Kinesis*](https://aws.amazon.com/es/kinesis/).\n",
    "* [*GCP Dataflow*](https://cloud.google.com/dataflow)."
   ]
  },
  {
   "cell_type": "markdown",
   "id": "6c560e6d",
   "metadata": {
    "slideshow": {
     "slide_type": "subslide"
    }
   },
   "source": [
    "### *Apache Beam* puede ser implementado en varios lenguajes.\n",
    "\n",
    "* *Java*.\n",
    "* *Python*.\n",
    "* *Go*.\n",
    "* *SQL*."
   ]
  },
  {
   "cell_type": "markdown",
   "id": "10cfd411",
   "metadata": {
    "slideshow": {
     "slide_type": "slide"
    }
   },
   "source": [
    "## Alternativas a *Apache Beam*.\n",
    "\n",
    "* [*Apache Apex*](https://apex.apache.org/).\n",
    "* [*Apache Airflow*](https://airflow.apache.org/)."
   ]
  },
  {
   "cell_type": "markdown",
   "id": "892997e3",
   "metadata": {
    "slideshow": {
     "slide_type": "slide"
    }
   },
   "source": [
    "## *Pipelines*.\n",
    "\n",
    "Un *pipeline* describe una grafo dirigido acíclico (*DAG* por sus siglas en inglés) que corresponde a un flujo en el que los datos son filtrados o transformados."
   ]
  },
  {
   "cell_type": "markdown",
   "id": "8214c98c",
   "metadata": {
    "slideshow": {
     "slide_type": "subslide"
    }
   },
   "source": [
    "![dag](img/dag.svg)"
   ]
  },
  {
   "cell_type": "markdown",
   "id": "fd6af6b4",
   "metadata": {
    "slideshow": {
     "slide_type": "subslide"
    }
   },
   "source": [
    "Según la [guía de programación de Apache Beam](https://beam.apache.org/documentation/programming-guide/), un ```Pipeline``` encapsula una tarea de procesamiento de datos de principio a fin, incluyendo.\n",
    "* Lectura de datos de entrada.\n",
    "* Transformación de los datos.\n",
    "* Escritura de los datos de salida."
   ]
  },
  {
   "cell_type": "markdown",
   "id": "e397277a",
   "metadata": {
    "slideshow": {
     "slide_type": "slide"
    }
   },
   "source": [
    "## ```PCollections```.\n",
    "\n",
    "Representa un conjunto de datos distribuído sobre el que opera un pipeline de *Apache Beam*. Dependiendo de su naturaleza pueden ser:\n",
    "\n",
    "* Ligadas (*bounded*), como es el caso de un archivo.\n",
    "* Desligadas (*unbounded*) como es el caso de una fuente de transmisión de datos.\n",
    "\n",
    "Las ```PCollections``` son las entradas y salidas de cada paso en un *pipeline*. "
   ]
  },
  {
   "cell_type": "markdown",
   "id": "d5bbca2a",
   "metadata": {
    "slideshow": {
     "slide_type": "slide"
    }
   },
   "source": [
    "## ```PTransforms```.\n",
    "\n",
    "Corresponde a las acciones de procesamiento de datos que afectan a una o más ```PCollections```."
   ]
  },
  {
   "cell_type": "markdown",
   "id": "a65282d2",
   "metadata": {
    "slideshow": {
     "slide_type": "slide"
    }
   },
   "source": [
    "## La guía de programación de *Apache Beam*.\n",
    "\n",
    "https://beam.apache.org/documentation/programming-guide/"
   ]
  },
  {
   "cell_type": "markdown",
   "id": "3014a14e",
   "metadata": {
    "slideshow": {
     "slide_type": "subslide"
    }
   },
   "source": [
    "### Código de ejemplo.\n",
    "\n",
    "https://beam.apache.org/get-started/wordcount-example/"
   ]
  },
  {
   "cell_type": "markdown",
   "id": "74224ce7",
   "metadata": {
    "slideshow": {
     "slide_type": "slide"
    }
   },
   "source": [
    "## *Google Cloud Platform*.\n",
    "\n",
    "Es la oferta de nube pública de *Google* de servicios *PaaS* e *Iaas*."
   ]
  },
  {
   "cell_type": "markdown",
   "id": "a14c5905",
   "metadata": {
    "slideshow": {
     "slide_type": "subslide"
    }
   },
   "source": [
    "### Servicios de cómputo.\n",
    "\n",
    "* [*Google Compute Engine* (*GCE*)](https://cloud.google.com/compute).\n",
    "* [*Google Kubernetes Engine* (*GKE*)](https://cloud.google.com/kubernetes-engine).\n",
    "* [*VMWare Engine*](https://cloud.google.com/vmware-engine).\n",
    "* [*App Engine*](https://cloud.google.com/appengine).\n",
    "* [*Cloud Run*](https://cloud.google.com/run).\n",
    "* [*Cloud Functions*](https://cloud.google.com/functions)."
   ]
  },
  {
   "cell_type": "markdown",
   "id": "fce5eabd",
   "metadata": {
    "slideshow": {
     "slide_type": "subslide"
    }
   },
   "source": [
    "### Sevicios de almacenamiento.\n",
    "\n",
    "* [*Cloud Storage*](https://cloud.google.com/storage).\n",
    "* [*Persistent disk*](https://cloud.google.com/persistent-disk).\n",
    "* [*Cloud Storage for Firebase*](https://firebase.google.com/docs/storage/).\n",
    "* [*Cloud Filestore*](https://cloud.google.com/filestore). NAS."
   ]
  },
  {
   "cell_type": "markdown",
   "id": "47c4559e",
   "metadata": {
    "slideshow": {
     "slide_type": "subslide"
    }
   },
   "source": [
    "### Bases de datos.\n",
    "\n",
    "* [*Cloud SQL*](https://cloud.google.com/sql).\n",
    "* [*Cloud Spanner*](https://cloud.google.com/spanner).\n",
    "* [*Cloud Firestore*/*Datastore*](https://cloud.google.com/firestore).\n",
    "* [*Cloud Memorystore*](https://cloud.google.com/memorystore).\n",
    "* [*Cloud Bigtable*](https://cloud.google.com/bigtable)."
   ]
  },
  {
   "cell_type": "markdown",
   "id": "b3cb4e47",
   "metadata": {
    "slideshow": {
     "slide_type": "subslide"
    }
   },
   "source": [
    "### Big Data y aprendizaje automático.\n",
    "\n",
    "* [*BigQuery*](https://cloud.google.com/bigquery).\n",
    "* [*Cloud Dataproc*](https://cloud.google.com/dataproc).\n",
    "* [*Cloud Pub/Sub*](https://cloud.google.com/pubsub).\n",
    "* [*Cloud Dataflow*](https://cloud.google.com/dataflow).\n",
    "* [*Cloud Composer*](https://cloud.google.com/composer).\n",
    "* [*Cloud Data Catalog*](https://cloud.google.com/data-catalog).\n",
    "* [*Cloud Data Fusion*](https://cloud.google.com/data-fusion).\n",
    "* [*Cloud Life Sciences*](https://cloud.google.com/life-sciences)."
   ]
  },
  {
   "cell_type": "markdown",
   "id": "e5e94008",
   "metadata": {
    "slideshow": {
     "slide_type": "slide"
    }
   },
   "source": [
    "## Guías de inicio rápido *GCP  Dataflow*.\n",
    "\n",
    "https://cloud.google.com/dataflow/docs/quickstarts"
   ]
  },
  {
   "cell_type": "markdown",
   "id": "e00cb871",
   "metadata": {
    "slideshow": {
     "slide_type": "slide"
    }
   },
   "source": [
    "## Contacto:\n",
    "\n",
    "* email: josech@gmail.com\n",
    "* Twitter: @josech\n",
    "* LinkedIn: https://www.linkedin.com/in/josech/ \n",
    "\n",
    "\n",
    "\n",
    "\n",
    "<p style=\"text-align: center\"><a rel=\"license\" href=\"http://creativecommons.org/licenses/by/4.0/\"><img alt=\"Licencia Creative Commons\" style=\"border-width:0\" src=\"https://i.creativecommons.org/l/by/4.0/80x15.png\" /></a><br />Esta obra está bajo una <a rel=\"license\" href=\"http://creativecommons.org/licenses/by/4.0/\">Licencia Creative Commons Atribución 4.0 Internacional</a>.</p>\n",
    "<p style=\"text-align: center\">&copy; José Luis Chiquete Valdivieso. 2021.</p>"
   ]
  }
 ],
 "metadata": {
  "celltoolbar": "Slideshow",
  "kernelspec": {
   "display_name": "Python 3 (ipykernel)",
   "language": "python",
   "name": "python3"
  },
  "language_info": {
   "codemirror_mode": {
    "name": "ipython",
    "version": 3
   },
   "file_extension": ".py",
   "mimetype": "text/x-python",
   "name": "python",
   "nbconvert_exporter": "python",
   "pygments_lexer": "ipython3",
   "version": "3.9.7"
  }
 },
 "nbformat": 4,
 "nbformat_minor": 5
}
